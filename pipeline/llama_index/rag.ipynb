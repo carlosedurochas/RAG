{
 "cells": [
  {
   "cell_type": "markdown",
   "metadata": {},
   "source": [
    "## **Basic RAG Pipeline**"
   ]
  },
  {
   "cell_type": "code",
   "execution_count": 1,
   "metadata": {},
   "outputs": [],
   "source": [
    "import os\n",
    "import openai\n",
    "from dotenv import load_dotenv\n",
    "\n",
    "load_dotenv() # load environment variables from the .env file\n",
    "openai.api_key = os.getenv(\"OPENAI_API_KEY\") # set the API key\n"
   ]
  },
  {
   "cell_type": "code",
   "execution_count": 2,
   "metadata": {},
   "outputs": [],
   "source": [
    "from llama_index import SimpleDirectoryReader \n",
    "# SimpleDirectoryReader is a class that reads a list of files \n",
    "# and returns a list of dictionaries with the file content and metadata.\n",
    "\n",
    "documents = SimpleDirectoryReader(\n",
    "    input_files=[\"./files/veterinario.txt\"] # list of files to index\n",
    ").load_data()"
   ]
  },
  {
   "cell_type": "code",
   "execution_count": 3,
   "metadata": {},
   "outputs": [
    {
     "name": "stdout",
     "output_type": "stream",
     "text": [
      "type(documents): <class 'list'>\n",
      "len(documents): 1\n",
      "type(documents[0]): <class 'llama_index.schema.Document'>\n",
      "text: Doc ID: aec1f35d-5bfb-4f84-958c-52237e03897d\n",
      "Text: Castração de cães e gatos agendamento on-line Portal Rio 1746\n",
      "Serviços  Animais  Medicina Veterinária 1. O que é o serviço:\n",
      "Informações sobre marcação de cirurgia para cães e gatos em uma das\n",
      "duas unidades veterinárias do IVISA-RIO:  Centro de Controle de\n",
      "Controle de Zoonoses Paulo Dacorso Filho (CCZ): Largo do Bodegão, 150\n",
      "– Santa Cruz  Centr...\n"
     ]
    }
   ],
   "source": [
    "print(f'type(documents): {type(documents)}')\n",
    "print(f'len(documents): {len(documents)}')\n",
    "print(f'type(documents[0]): {type(documents[0])}')\n",
    "print(f'text: {documents[0]}')"
   ]
  },
  {
   "cell_type": "code",
   "execution_count": 4,
   "metadata": {},
   "outputs": [],
   "source": [
    "from llama_index import Document \n",
    "# Document is a class that represents \n",
    "# a document with metadata and text.\n",
    "\n",
    "document = Document(text=\"\\n\\n\".join([doc.text for doc in documents]))"
   ]
  },
  {
   "cell_type": "code",
   "execution_count": 5,
   "metadata": {},
   "outputs": [],
   "source": [
    "from llama_index import VectorStoreIndex \n",
    "from llama_index import ServiceContext \n",
    "from llama_index.llms import OpenAI\n",
    "\n",
    "# VectorStoreIndex is a class that indexes a list of \n",
    "# documents and allows to search for similar documents.\n",
    "# ServiceContext is a class that holds \n",
    "# the configuration of the service.\n",
    "# OpenAI is a class that uses the \n",
    "# OpenAI API to generate text.\n",
    "\n",
    "llm = OpenAI(model=\"gpt-3.5-turbo\", temperature=0.1) # create a new OpenAI service"
   ]
  },
  {
   "cell_type": "code",
   "execution_count": null,
   "metadata": {},
   "outputs": [],
   "source": [
    "service_context = ServiceContext.from_defaults( # create a new service context\n",
    "    llm=llm, embed_model=\"local:BAAI/bge-small-en-v1.5\" # set the language model and the embedding model\n",
    ")\n",
    "\n",
    "\n",
    "index = VectorStoreIndex.from_documents([document], # create a new index\n",
    "                                        service_context=service_context)"
   ]
  },
  {
   "cell_type": "code",
   "execution_count": 7,
   "metadata": {},
   "outputs": [],
   "source": [
    "query_engine = index.as_query_engine() # create a query engine"
   ]
  },
  {
   "cell_type": "code",
   "execution_count": 8,
   "metadata": {},
   "outputs": [
    {
     "name": "stdout",
     "output_type": "stream",
     "text": [
      "Para realizar o agendamento para a castração do seu cachorro, você precisa fazer login no Carioca Digital (www.carioca.rio) e acessar o serviço de agendamento de castração de cães e gatos. Em seguida, selecione o item VISA PETs - Vigilância Sanitária - Serviços de Castração de Animais e escolha a unidade veterinária em que deseja marcar a cirurgia. Indique o tipo de atendimento (para cães), escolha uma data e um horário disponível e confirme o agendamento. Lembre-se de comparecer à unidade escolhida com antecedência no dia marcado, conforme orientação no cadastro online.\n"
     ]
    }
   ],
   "source": [
    "response = query_engine.query( # query the index\n",
    "    \"Como realizar o agendamento para a castração do meu cachorro?\"\n",
    ")\n",
    "print(str(response))"
   ]
  },
  {
   "cell_type": "code",
   "execution_count": 9,
   "metadata": {},
   "outputs": [
    {
     "name": "stdout",
     "output_type": "stream",
     "text": [
      "A castração ocorre das 8h às 17h, de segunda a sexta-feira.\n"
     ]
    }
   ],
   "source": [
    "response = query_engine.query( # query the index\n",
    "    \"Que horas ocorre a castração?\"\n",
    ")\n",
    "print(str(response))"
   ]
  }
 ],
 "metadata": {
  "kernelspec": {
   "display_name": "Python 3",
   "language": "python",
   "name": "python3"
  },
  "language_info": {
   "codemirror_mode": {
    "name": "ipython",
    "version": 3
   },
   "file_extension": ".py",
   "mimetype": "text/x-python",
   "name": "python",
   "nbconvert_exporter": "python",
   "pygments_lexer": "ipython3",
   "version": "3.10.13"
  }
 },
 "nbformat": 4,
 "nbformat_minor": 2
}
